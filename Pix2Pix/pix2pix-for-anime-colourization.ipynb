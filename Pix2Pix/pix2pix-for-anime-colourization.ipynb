{
 "cells": [
  {
   "cell_type": "code",
   "execution_count": 1,
   "id": "affdd663",
   "metadata": {
    "_cell_guid": "b1076dfc-b9ad-4769-8c92-a6c4dae69d19",
    "_uuid": "8f2839f25d086af736a60e9eeb907d3b93b6e0e5",
    "execution": {
     "iopub.execute_input": "2021-12-08T10:38:41.563057Z",
     "iopub.status.busy": "2021-12-08T10:38:41.562516Z",
     "iopub.status.idle": "2021-12-08T10:38:41.566424Z",
     "shell.execute_reply": "2021-12-08T10:38:41.565526Z",
     "shell.execute_reply.started": "2021-12-08T10:29:32.433356Z"
    },
    "papermill": {
     "duration": 0.023335,
     "end_time": "2021-12-08T10:38:41.566679",
     "exception": false,
     "start_time": "2021-12-08T10:38:41.543344",
     "status": "completed"
    },
    "tags": []
   },
   "outputs": [],
   "source": [
    "import numpy as np # linear algebra\n",
    "import pandas as pd # data processing, CSV file I/O (e.g. pd.read_csv)\n",
    "import os"
   ]
  },
  {
   "cell_type": "code",
   "execution_count": 2,
   "id": "a9802169",
   "metadata": {
    "execution": {
     "iopub.execute_input": "2021-12-08T10:38:41.586538Z",
     "iopub.status.busy": "2021-12-08T10:38:41.585936Z",
     "iopub.status.idle": "2021-12-08T10:38:46.132772Z",
     "shell.execute_reply": "2021-12-08T10:38:46.132280Z",
     "shell.execute_reply.started": "2021-12-08T10:30:01.230511Z"
    },
    "papermill": {
     "duration": 4.558403,
     "end_time": "2021-12-08T10:38:46.132910",
     "exception": false,
     "start_time": "2021-12-08T10:38:41.574507",
     "status": "completed"
    },
    "tags": []
   },
   "outputs": [],
   "source": [
    "import torch\n",
    "import torch.nn as nn\n",
    "import torch.optim as optim\n",
    "from torchvision.utils import save_image\n",
    "from torch.utils.data import Dataset, DataLoader\n",
    "\n",
    "import albumentations as A\n",
    "from albumentations.pytorch import ToTensorV2\n",
    "\n",
    "\n",
    "from PIL import Image\n",
    "from tqdm import tqdm"
   ]
  },
  {
   "cell_type": "code",
   "execution_count": 3,
   "id": "00537dde",
   "metadata": {
    "execution": {
     "iopub.execute_input": "2021-12-08T10:38:46.212936Z",
     "iopub.status.busy": "2021-12-08T10:38:46.212207Z",
     "iopub.status.idle": "2021-12-08T10:38:46.214165Z",
     "shell.execute_reply": "2021-12-08T10:38:46.214809Z",
     "shell.execute_reply.started": "2021-12-08T10:32:02.058909Z"
    },
    "papermill": {
     "duration": 0.074545,
     "end_time": "2021-12-08T10:38:46.214944",
     "exception": false,
     "start_time": "2021-12-08T10:38:46.140399",
     "status": "completed"
    },
    "tags": []
   },
   "outputs": [],
   "source": [
    "DEVICE = 'cuda' if torch.cuda.is_available() else 'cpu'\n",
    "\n",
    "TRAIN_DIR = \"../input/anime-sketch-colorization-pair/data/train\"\n",
    "TEST_DIR = \"../input/anime-sketch-colorization-pair/data/val\"\n",
    "LR = 2e-4\n",
    "BATCH_SIZE = 32\n",
    "NUM_WORKERS = 2\n",
    "IMG_SIZE = 256\n",
    "IMG_CHANNELS = 3\n",
    "L1_LAMBDA = 100\n",
    "LAMBDA_GP = 10\n",
    "EPOCHS = 100\n",
    "LOAD_MODEL = False\n",
    "SAVE_MODEL = True\n",
    "DISC_CHK = \"./disc.pth.tar\"\n",
    "GEN_CHK = \"./gen.pth.tar\"\n",
    "\n",
    "both_transforms = A.Compose(\n",
    "    [\n",
    "        A.Resize(width=256,height=256)\n",
    "    ],\n",
    "    additional_targets={\"image0\":\"image\"}\n",
    ")\n",
    "\n",
    "transform_input = A.Compose(\n",
    "    [\n",
    "        A.HorizontalFlip(p=0.5),\n",
    "        A.ColorJitter(p=0.2),\n",
    "        A.Normalize(mean=[0.485, 0.456, 0.406],std=[0.229, 0.224, 0.225],max_pixel_value=255.0),\n",
    "        ToTensorV2()\n",
    "    ]\n",
    ")\n",
    "\n",
    "transform_mask = A.Compose(\n",
    "    [\n",
    "        A.Normalize(mean=[0.485, 0.456, 0.406],std=[0.229, 0.224, 0.225],max_pixel_value=255.0),\n",
    "        ToTensorV2()\n",
    "    ]\n",
    ")"
   ]
  },
  {
   "cell_type": "code",
   "execution_count": 4,
   "id": "6a1de16f",
   "metadata": {
    "execution": {
     "iopub.execute_input": "2021-12-08T10:38:46.236787Z",
     "iopub.status.busy": "2021-12-08T10:38:46.236012Z",
     "iopub.status.idle": "2021-12-08T10:38:46.238396Z",
     "shell.execute_reply": "2021-12-08T10:38:46.237975Z",
     "shell.execute_reply.started": "2021-12-08T10:32:05.989726Z"
    },
    "papermill": {
     "duration": 0.016159,
     "end_time": "2021-12-08T10:38:46.238495",
     "exception": false,
     "start_time": "2021-12-08T10:38:46.222336",
     "status": "completed"
    },
    "tags": []
   },
   "outputs": [],
   "source": [
    "class MyDataset(Dataset):\n",
    "    def __init__(self,root_dir):\n",
    "        self.root_dir = root_dir\n",
    "        self.list_files = os.listdir(self.root_dir)\n",
    "\n",
    "    \n",
    "    def __len__(self):\n",
    "        return len(self.list_files)\n",
    "\n",
    "    def __getitem__(self, index):\n",
    "        img_file = self.list_files[index]\n",
    "        img_path = os.path.join(self.root_dir,img_file)\n",
    "        image = np.array(Image.open(img_path))\n",
    "        input_image = image[:,511:,:]\n",
    "        target_image = image[:,:511,:]\n",
    "\n",
    "\n",
    "        augmentations = both_transforms(image=input_image,image0=target_image)\n",
    "        input_image = augmentations[\"image\"]\n",
    "        target_image = augmentations[\"image0\"]\n",
    "\n",
    "        input_image = transform_input(image=input_image)[\"image\"]\n",
    "        target_image = transform_mask(image=target_image)[\"image\"]\n",
    "\n",
    "        return input_image,target_image"
   ]
  },
  {
   "cell_type": "code",
   "execution_count": 5,
   "id": "00a2036e",
   "metadata": {
    "execution": {
     "iopub.execute_input": "2021-12-08T10:38:46.260926Z",
     "iopub.status.busy": "2021-12-08T10:38:46.260134Z",
     "iopub.status.idle": "2021-12-08T10:38:46.264433Z",
     "shell.execute_reply": "2021-12-08T10:38:46.264041Z",
     "shell.execute_reply.started": "2021-12-08T10:33:13.043216Z"
    },
    "papermill": {
     "duration": 0.018844,
     "end_time": "2021-12-08T10:38:46.264542",
     "exception": false,
     "start_time": "2021-12-08T10:38:46.245698",
     "status": "completed"
    },
    "tags": []
   },
   "outputs": [],
   "source": [
    "def save_examples(gen,val_loader,epoch,folder):\n",
    "    x,y = next(iter(val_loader))\n",
    "    x,y = x.to(DEVICE),y.to(DEVICE)\n",
    "    gen.eval()\n",
    "\n",
    "    with torch.no_grad():\n",
    "        y_fake = gen(x)\n",
    "        y_fake = y_fake*0.5 + 0.5\n",
    "        save_image(y_fake, folder+f\"/y_gen_{epoch}.png\")\n",
    "        save_image(x*0.5+0.5, folder+f\"/input_{epoch}.png\")\n",
    "        if epoch == 1:\n",
    "            save_image(y*0.5+0.5, folder+f\"/label_{epoch}.png\")\n",
    "    gen.train()\n",
    "\n",
    "def save_checkpoint(model,optimizer, filename=\"./my_checkpoint.pth.tar\"):\n",
    "    print(\"--> Saving checkpoint\")\n",
    "    checkpoint = {\n",
    "        \"state_dict\": model.state_dict(),\n",
    "        \"optimizer\": optimizer.state_dict()\n",
    "    }\n",
    "    torch.save(checkpoint,filename)\n",
    "\n",
    "def load_checkpoint(checkpoint_file,model,optimizer,lr):\n",
    "    print(\"--> Loading checkpoint\")\n",
    "    checkpoint = torch.load(checkpoint_file,map_location=DEVICE)\n",
    "    model.load_state_dict(checkpoint[\"state_dict\"])\n",
    "    optimizer.load_state_dict(checkpoint[\"optimizer\"])\n",
    "\n",
    "    for param_group in optimizer.param_groups:\n",
    "        param_group[\"lr\"] = lr\n"
   ]
  },
  {
   "cell_type": "code",
   "execution_count": 6,
   "id": "83ffc135",
   "metadata": {
    "execution": {
     "iopub.execute_input": "2021-12-08T10:38:46.302465Z",
     "iopub.status.busy": "2021-12-08T10:38:46.281032Z",
     "iopub.status.idle": "2021-12-08T10:38:46.304294Z",
     "shell.execute_reply": "2021-12-08T10:38:46.304662Z",
     "shell.execute_reply.started": "2021-12-08T10:33:16.348689Z"
    },
    "papermill": {
     "duration": 0.033144,
     "end_time": "2021-12-08T10:38:46.304806",
     "exception": false,
     "start_time": "2021-12-08T10:38:46.271662",
     "status": "completed"
    },
    "tags": []
   },
   "outputs": [],
   "source": [
    "class ConvBlock(nn.Module):\n",
    "    def __init__(self,in_features,out_features, use_dropout=False, isEncoder=True):\n",
    "        super(ConvBlock,self).__init__()\n",
    "        self.conv = nn.Sequential(\n",
    "            nn.Conv2d(in_features, out_features, 4, 2, 1, bias=False, padding_mode='reflect')\n",
    "            if isEncoder \n",
    "            else nn.ConvTranspose2d(in_features, out_features, 4, 2, 1, bias=False),\n",
    "\n",
    "            nn.BatchNorm2d(out_features),\n",
    "            nn.LeakyReLU(0.2) if isEncoder else nn.ReLU(),\n",
    "        )\n",
    "        self.use_dropout = use_dropout\n",
    "        self.dropout = nn.Dropout(0.5)\n",
    "        self.isEncoder = isEncoder\n",
    "\n",
    "    def forward(self,x):\n",
    "        x = self.conv(x)\n",
    "        return self.dropout(x) if self.use_dropout else x\n",
    "\n",
    "class Generator(nn.Module):\n",
    "    def __init__(self):\n",
    "        super().__init__()\n",
    "        self.e1 = nn.Sequential(\n",
    "            nn.Conv2d(3, 64, 4, 2, 1,padding_mode='reflect'),\n",
    "            nn.LeakyReLU(0.2),\n",
    "        )\n",
    "        self.e2 = ConvBlock(64, 128, isEncoder=True)\n",
    "        self.e3 = ConvBlock(128, 256, isEncoder=True)\n",
    "        self.e4 = ConvBlock(256, 512, isEncoder=True)\n",
    "        self.e5 = ConvBlock(512, 512, isEncoder=True)\n",
    "        self.e6 = ConvBlock(512, 512, isEncoder=True)\n",
    "        self.e7 = ConvBlock(512, 512, isEncoder=True)\n",
    "        \n",
    "        self.bottleneck = nn.Sequential(\n",
    "            nn.Conv2d(512, 512, 4,2,1),\n",
    "            nn.ReLU(),\n",
    "        )\n",
    "\n",
    "        self.d1 = ConvBlock(512, 512, isEncoder=False, use_dropout=True)\n",
    "        self.d2 = ConvBlock(1024, 512, isEncoder=False, use_dropout=True)\n",
    "        self.d3 = ConvBlock(1024, 512, isEncoder=False, use_dropout=True)\n",
    "        self.d4 = ConvBlock(1024, 512, isEncoder=False)\n",
    "        self.d5 = ConvBlock(1024, 256, isEncoder=False)\n",
    "        self.d6 = ConvBlock(512, 128, isEncoder=False)\n",
    "        self.d7 = ConvBlock(256, 64, isEncoder=False)\n",
    "        self.d8 = nn.Sequential(\n",
    "            nn.ConvTranspose2d(128, 3, 4, 2, 1),\n",
    "            nn.Tanh(),\n",
    "        )\n",
    "\n",
    "    def forward(self,x):\n",
    "        down1 = self.e1(x)\n",
    "        down2 = self.e2(down1)\n",
    "        down3 = self.e3(down2)\n",
    "        down4 = self.e4(down3)\n",
    "        down5 = self.e5(down4)\n",
    "        down6 = self.e6(down5)\n",
    "        down7 = self.e7(down6)\n",
    "        \n",
    "        bottleneck = self.bottleneck(down7)\n",
    "        \n",
    "        up1 = self.d1(bottleneck)\n",
    "        up2 = self.d2(torch.cat([up1, down7], 1))\n",
    "        up3 = self.d3(torch.cat([up2, down6], 1))\n",
    "        up4 = self.d4(torch.cat([up3, down5], 1))\n",
    "        up5 = self.d5(torch.cat([up4, down4], 1))\n",
    "        up6 = self.d6(torch.cat([up5, down3], 1))\n",
    "        up7 = self.d7(torch.cat([up6, down2], 1))\n",
    "        \n",
    "        return self.d8(torch.cat([up7, down1], 1))\n",
    "\n",
    "\n",
    "class Block(nn.Module):\n",
    "    def __init__(self,in_features,out_features,stride):\n",
    "        super(Block,self).__init__()\n",
    "        self.conv = nn.Sequential(\n",
    "            nn.Conv2d(in_features, out_features, 4, stride, 1,bias=False,padding_mode=\"reflect\"),\n",
    "            nn.BatchNorm2d(out_features),\n",
    "            nn.LeakyReLU(0.2)\n",
    "        )\n",
    "\n",
    "    def forward(self,x):\n",
    "        return self.conv(x)\n",
    "\n",
    "class Discriminator(nn.Module):\n",
    "    def __init__(self):\n",
    "        super().__init__()\n",
    "\n",
    "        self.initial = nn.Sequential(\n",
    "            nn.Conv2d(6, 64, 4, 2, 1, padding_mode=\"reflect\"),\n",
    "            nn.LeakyReLU(0.2)\n",
    "        )\n",
    "        block1 = Block(64, 128, stride=2)\n",
    "        block2 = Block(128, 256, stride=2)\n",
    "        block3 = Block(256, 512, stride=1)\n",
    "        block4 = nn.Conv2d(512, 1, 4,stride=1,padding=1,padding_mode=\"reflect\")\n",
    "\n",
    "        self.model = nn.Sequential(\n",
    "            block1,\n",
    "            block2,\n",
    "            block3,\n",
    "            block4\n",
    "        )\n",
    "\n",
    "    def forward(self,x,y):\n",
    "        x = torch.cat([x,y],1)\n",
    "        x = self.initial(x)\n",
    "        x = self.model(x)\n",
    "        return x"
   ]
  },
  {
   "cell_type": "code",
   "execution_count": 7,
   "id": "b1140237",
   "metadata": {
    "execution": {
     "iopub.execute_input": "2021-12-08T10:38:46.321780Z",
     "iopub.status.busy": "2021-12-08T10:38:46.321013Z",
     "iopub.status.idle": "2021-12-08T10:38:46.325006Z",
     "shell.execute_reply": "2021-12-08T10:38:46.324581Z",
     "shell.execute_reply.started": "2021-12-08T10:33:18.723517Z"
    },
    "papermill": {
     "duration": 0.013087,
     "end_time": "2021-12-08T10:38:46.325117",
     "exception": false,
     "start_time": "2021-12-08T10:38:46.312030",
     "status": "completed"
    },
    "tags": []
   },
   "outputs": [],
   "source": [
    "os.makedirs('./validation')"
   ]
  },
  {
   "cell_type": "code",
   "execution_count": 8,
   "id": "35284c56",
   "metadata": {
    "execution": {
     "iopub.execute_input": "2021-12-08T10:38:46.356527Z",
     "iopub.status.busy": "2021-12-08T10:38:46.346682Z",
     "iopub.status.idle": "2021-12-08T18:09:10.715667Z",
     "shell.execute_reply": "2021-12-08T18:09:10.716123Z",
     "shell.execute_reply.started": "2021-12-08T10:35:06.760192Z"
    },
    "papermill": {
     "duration": 27024.38401,
     "end_time": "2021-12-08T18:09:10.716293",
     "exception": false,
     "start_time": "2021-12-08T10:38:46.332283",
     "status": "completed"
    },
    "tags": []
   },
   "outputs": [
    {
     "name": "stderr",
     "output_type": "stream",
     "text": [
      "100%|██████████| 445/445 [04:37<00:00,  1.60it/s, D_fake=0.00406, D_real=0.997]\n"
     ]
    },
    {
     "name": "stdout",
     "output_type": "stream",
     "text": [
      "--> Saving checkpoint\n",
      "--> Saving checkpoint\n"
     ]
    },
    {
     "name": "stderr",
     "output_type": "stream",
     "text": [
      "100%|██████████| 445/445 [04:27<00:00,  1.66it/s, D_fake=0.00486, D_real=0.997]\n",
      "100%|██████████| 445/445 [04:25<00:00,  1.68it/s, D_fake=0.00505, D_real=0.993]\n",
      "100%|██████████| 445/445 [04:27<00:00,  1.66it/s, D_fake=0.0018, D_real=0.989]\n",
      "100%|██████████| 445/445 [04:25<00:00,  1.67it/s, D_fake=0.000823, D_real=0.997]\n",
      "100%|██████████| 445/445 [04:24<00:00,  1.68it/s, D_fake=0.00082, D_real=0.999]\n"
     ]
    },
    {
     "name": "stdout",
     "output_type": "stream",
     "text": [
      "--> Saving checkpoint\n",
      "--> Saving checkpoint\n"
     ]
    },
    {
     "name": "stderr",
     "output_type": "stream",
     "text": [
      "100%|██████████| 445/445 [04:23<00:00,  1.69it/s, D_fake=0.00684, D_real=0.998]\n",
      "100%|██████████| 445/445 [04:25<00:00,  1.67it/s, D_fake=0.000936, D_real=0.999]\n",
      "100%|██████████| 445/445 [04:26<00:00,  1.67it/s, D_fake=0.000286, D_real=1]\n",
      "100%|██████████| 445/445 [04:26<00:00,  1.67it/s, D_fake=0.000862, D_real=0.999]\n",
      "100%|██████████| 445/445 [04:26<00:00,  1.67it/s, D_fake=0.000313, D_real=1]\n"
     ]
    },
    {
     "name": "stdout",
     "output_type": "stream",
     "text": [
      "--> Saving checkpoint\n",
      "--> Saving checkpoint\n"
     ]
    },
    {
     "name": "stderr",
     "output_type": "stream",
     "text": [
      "100%|██████████| 445/445 [04:24<00:00,  1.68it/s, D_fake=0.000333, D_real=1]\n",
      "100%|██████████| 445/445 [04:26<00:00,  1.67it/s, D_fake=8.98e-5, D_real=1]\n",
      "100%|██████████| 445/445 [04:25<00:00,  1.67it/s, D_fake=9.55e-5, D_real=1]\n",
      "100%|██████████| 445/445 [04:28<00:00,  1.66it/s, D_fake=8.46e-5, D_real=1]\n",
      "100%|██████████| 445/445 [04:28<00:00,  1.66it/s, D_fake=4.78e-5, D_real=1]\n"
     ]
    },
    {
     "name": "stdout",
     "output_type": "stream",
     "text": [
      "--> Saving checkpoint\n",
      "--> Saving checkpoint\n"
     ]
    },
    {
     "name": "stderr",
     "output_type": "stream",
     "text": [
      "100%|██████████| 445/445 [04:25<00:00,  1.68it/s, D_fake=0.00138, D_real=0.997]\n",
      "100%|██████████| 445/445 [04:26<00:00,  1.67it/s, D_fake=0.000404, D_real=0.999]\n",
      "100%|██████████| 445/445 [04:26<00:00,  1.67it/s, D_fake=0.00212, D_real=0.998]\n",
      "100%|██████████| 445/445 [04:24<00:00,  1.68it/s, D_fake=0.000461, D_real=1]\n",
      "100%|██████████| 445/445 [04:23<00:00,  1.69it/s, D_fake=0.000261, D_real=1]\n"
     ]
    },
    {
     "name": "stdout",
     "output_type": "stream",
     "text": [
      "--> Saving checkpoint\n",
      "--> Saving checkpoint\n"
     ]
    },
    {
     "name": "stderr",
     "output_type": "stream",
     "text": [
      "100%|██████████| 445/445 [04:27<00:00,  1.66it/s, D_fake=0.000255, D_real=1]\n",
      "100%|██████████| 445/445 [04:26<00:00,  1.67it/s, D_fake=8.39e-5, D_real=1]\n",
      "100%|██████████| 445/445 [04:25<00:00,  1.67it/s, D_fake=4.73e-5, D_real=1]\n",
      "100%|██████████| 445/445 [04:26<00:00,  1.67it/s, D_fake=8.42e-5, D_real=1]\n",
      "100%|██████████| 445/445 [04:25<00:00,  1.68it/s, D_fake=4.09e-5, D_real=1]\n"
     ]
    },
    {
     "name": "stdout",
     "output_type": "stream",
     "text": [
      "--> Saving checkpoint\n",
      "--> Saving checkpoint\n"
     ]
    },
    {
     "name": "stderr",
     "output_type": "stream",
     "text": [
      "100%|██████████| 445/445 [04:25<00:00,  1.68it/s, D_fake=4.21e-5, D_real=1]\n",
      "100%|██████████| 445/445 [04:26<00:00,  1.67it/s, D_fake=2.65e-5, D_real=1]\n",
      "100%|██████████| 445/445 [04:27<00:00,  1.66it/s, D_fake=1.91e-5, D_real=1]\n",
      "100%|██████████| 445/445 [04:27<00:00,  1.67it/s, D_fake=1.45e-5, D_real=1]\n",
      "100%|██████████| 445/445 [04:27<00:00,  1.67it/s, D_fake=1.04e-5, D_real=1]\n"
     ]
    },
    {
     "name": "stdout",
     "output_type": "stream",
     "text": [
      "--> Saving checkpoint\n",
      "--> Saving checkpoint\n"
     ]
    },
    {
     "name": "stderr",
     "output_type": "stream",
     "text": [
      "100%|██████████| 445/445 [04:25<00:00,  1.68it/s, D_fake=1.08e-5, D_real=1]\n",
      "100%|██████████| 445/445 [04:27<00:00,  1.66it/s, D_fake=5.9e-6, D_real=1]\n",
      "100%|██████████| 445/445 [04:27<00:00,  1.67it/s, D_fake=5.6e-6, D_real=1]\n",
      "100%|██████████| 445/445 [04:29<00:00,  1.65it/s, D_fake=4.83e-6, D_real=1]\n",
      "100%|██████████| 445/445 [04:29<00:00,  1.65it/s, D_fake=0.000935, D_real=0.997]\n"
     ]
    },
    {
     "name": "stdout",
     "output_type": "stream",
     "text": [
      "--> Saving checkpoint\n",
      "--> Saving checkpoint\n"
     ]
    },
    {
     "name": "stderr",
     "output_type": "stream",
     "text": [
      "100%|██████████| 445/445 [04:28<00:00,  1.66it/s, D_fake=0.000348, D_real=1]\n",
      "100%|██████████| 445/445 [04:31<00:00,  1.64it/s, D_fake=0.000377, D_real=1]\n",
      "100%|██████████| 445/445 [04:30<00:00,  1.64it/s, D_fake=0.00018, D_real=1]\n",
      "100%|██████████| 445/445 [04:33<00:00,  1.63it/s, D_fake=0.000157, D_real=1]\n",
      "100%|██████████| 445/445 [04:32<00:00,  1.64it/s, D_fake=3.48e-5, D_real=1]\n"
     ]
    },
    {
     "name": "stdout",
     "output_type": "stream",
     "text": [
      "--> Saving checkpoint\n",
      "--> Saving checkpoint\n"
     ]
    },
    {
     "name": "stderr",
     "output_type": "stream",
     "text": [
      "100%|██████████| 445/445 [04:32<00:00,  1.63it/s, D_fake=0.000111, D_real=1]\n",
      "100%|██████████| 445/445 [04:33<00:00,  1.63it/s, D_fake=0.000896, D_real=1]\n",
      "100%|██████████| 445/445 [04:33<00:00,  1.63it/s, D_fake=0.000201, D_real=1]\n",
      "100%|██████████| 445/445 [04:30<00:00,  1.65it/s, D_fake=4.65e-5, D_real=1]\n",
      "100%|██████████| 445/445 [04:33<00:00,  1.63it/s, D_fake=4.63e-5, D_real=1]\n"
     ]
    },
    {
     "name": "stdout",
     "output_type": "stream",
     "text": [
      "--> Saving checkpoint\n",
      "--> Saving checkpoint\n"
     ]
    },
    {
     "name": "stderr",
     "output_type": "stream",
     "text": [
      "100%|██████████| 445/445 [04:33<00:00,  1.63it/s, D_fake=4.64e-5, D_real=1]\n",
      "100%|██████████| 445/445 [04:33<00:00,  1.63it/s, D_fake=3.61e-5, D_real=1]\n",
      "100%|██████████| 445/445 [04:35<00:00,  1.61it/s, D_fake=4.56e-5, D_real=1]\n",
      "100%|██████████| 445/445 [04:36<00:00,  1.61it/s, D_fake=2.22e-5, D_real=1]\n",
      "100%|██████████| 445/445 [04:36<00:00,  1.61it/s, D_fake=2.7e-5, D_real=1]\n"
     ]
    },
    {
     "name": "stdout",
     "output_type": "stream",
     "text": [
      "--> Saving checkpoint\n",
      "--> Saving checkpoint\n"
     ]
    },
    {
     "name": "stderr",
     "output_type": "stream",
     "text": [
      "100%|██████████| 445/445 [04:36<00:00,  1.61it/s, D_fake=9.24e-6, D_real=1]\n",
      "100%|██████████| 445/445 [04:32<00:00,  1.63it/s, D_fake=1.34e-5, D_real=1]\n",
      "100%|██████████| 445/445 [04:35<00:00,  1.61it/s, D_fake=1.19e-5, D_real=1]\n",
      "100%|██████████| 445/445 [04:35<00:00,  1.61it/s, D_fake=0.000757, D_real=1]\n",
      "100%|██████████| 445/445 [04:41<00:00,  1.58it/s, D_fake=0.000245, D_real=1]\n"
     ]
    },
    {
     "name": "stdout",
     "output_type": "stream",
     "text": [
      "--> Saving checkpoint\n",
      "--> Saving checkpoint\n"
     ]
    },
    {
     "name": "stderr",
     "output_type": "stream",
     "text": [
      "100%|██████████| 445/445 [04:47<00:00,  1.55it/s, D_fake=0.000178, D_real=1]\n",
      "100%|██████████| 445/445 [04:39<00:00,  1.59it/s, D_fake=0.000175, D_real=1]\n",
      "100%|██████████| 445/445 [04:36<00:00,  1.61it/s, D_fake=4.14e-5, D_real=1]\n",
      "100%|██████████| 445/445 [04:35<00:00,  1.62it/s, D_fake=5.75e-5, D_real=1]\n",
      "100%|██████████| 445/445 [04:32<00:00,  1.63it/s, D_fake=6.58e-5, D_real=1]\n"
     ]
    },
    {
     "name": "stdout",
     "output_type": "stream",
     "text": [
      "--> Saving checkpoint\n",
      "--> Saving checkpoint\n"
     ]
    },
    {
     "name": "stderr",
     "output_type": "stream",
     "text": [
      "100%|██████████| 445/445 [04:32<00:00,  1.63it/s, D_fake=4.76e-5, D_real=1]\n",
      "100%|██████████| 445/445 [04:31<00:00,  1.64it/s, D_fake=1.74e-5, D_real=1]\n",
      "100%|██████████| 445/445 [04:33<00:00,  1.63it/s, D_fake=1.11e-5, D_real=1]\n",
      "100%|██████████| 445/445 [04:33<00:00,  1.63it/s, D_fake=0.000278, D_real=1]\n",
      "100%|██████████| 445/445 [04:29<00:00,  1.65it/s, D_fake=9.41e-5, D_real=1]\n"
     ]
    },
    {
     "name": "stdout",
     "output_type": "stream",
     "text": [
      "--> Saving checkpoint\n",
      "--> Saving checkpoint\n"
     ]
    },
    {
     "name": "stderr",
     "output_type": "stream",
     "text": [
      "100%|██████████| 445/445 [04:29<00:00,  1.65it/s, D_fake=0.000159, D_real=1]\n",
      "100%|██████████| 445/445 [04:26<00:00,  1.67it/s, D_fake=0.000137, D_real=1]\n",
      "100%|██████████| 445/445 [04:26<00:00,  1.67it/s, D_fake=4.57e-5, D_real=1]\n",
      "100%|██████████| 445/445 [04:25<00:00,  1.67it/s, D_fake=3.4e-5, D_real=1]\n",
      "100%|██████████| 445/445 [04:30<00:00,  1.64it/s, D_fake=2.32e-5, D_real=1]\n"
     ]
    },
    {
     "name": "stdout",
     "output_type": "stream",
     "text": [
      "--> Saving checkpoint\n",
      "--> Saving checkpoint\n"
     ]
    },
    {
     "name": "stderr",
     "output_type": "stream",
     "text": [
      "100%|██████████| 445/445 [04:35<00:00,  1.61it/s, D_fake=2.09e-5, D_real=1]\n",
      "100%|██████████| 445/445 [04:35<00:00,  1.61it/s, D_fake=9.18e-6, D_real=1]\n",
      "100%|██████████| 445/445 [04:29<00:00,  1.65it/s, D_fake=9.18e-6, D_real=1]\n",
      "100%|██████████| 445/445 [04:29<00:00,  1.65it/s, D_fake=1.16e-5, D_real=1]\n",
      "100%|██████████| 445/445 [04:27<00:00,  1.66it/s, D_fake=1.58e-5, D_real=1]\n"
     ]
    },
    {
     "name": "stdout",
     "output_type": "stream",
     "text": [
      "--> Saving checkpoint\n",
      "--> Saving checkpoint\n"
     ]
    },
    {
     "name": "stderr",
     "output_type": "stream",
     "text": [
      "100%|██████████| 445/445 [04:27<00:00,  1.67it/s, D_fake=6.97e-6, D_real=1]\n",
      "100%|██████████| 445/445 [04:26<00:00,  1.67it/s, D_fake=6.79e-6, D_real=1]\n",
      "100%|██████████| 445/445 [04:26<00:00,  1.67it/s, D_fake=3.93e-6, D_real=1]\n",
      "100%|██████████| 445/445 [04:26<00:00,  1.67it/s, D_fake=2.44e-6, D_real=1]\n",
      "100%|██████████| 445/445 [04:27<00:00,  1.67it/s, D_fake=5.13e-6, D_real=1]\n"
     ]
    },
    {
     "name": "stdout",
     "output_type": "stream",
     "text": [
      "--> Saving checkpoint\n",
      "--> Saving checkpoint\n"
     ]
    },
    {
     "name": "stderr",
     "output_type": "stream",
     "text": [
      "100%|██████████| 445/445 [04:28<00:00,  1.66it/s, D_fake=2.74e-6, D_real=1]\n",
      "100%|██████████| 445/445 [04:35<00:00,  1.61it/s, D_fake=0.00179, D_real=0.998]\n",
      "100%|██████████| 445/445 [04:35<00:00,  1.61it/s, D_fake=0.000664, D_real=1]\n",
      "100%|██████████| 445/445 [04:28<00:00,  1.66it/s, D_fake=0.000199, D_real=1]\n",
      "100%|██████████| 445/445 [04:26<00:00,  1.67it/s, D_fake=0.000105, D_real=1]\n"
     ]
    },
    {
     "name": "stdout",
     "output_type": "stream",
     "text": [
      "--> Saving checkpoint\n",
      "--> Saving checkpoint\n"
     ]
    },
    {
     "name": "stderr",
     "output_type": "stream",
     "text": [
      "100%|██████████| 445/445 [04:26<00:00,  1.67it/s, D_fake=8.75e-5, D_real=1]\n",
      "100%|██████████| 445/445 [04:25<00:00,  1.67it/s, D_fake=0.000121, D_real=1]\n",
      "100%|██████████| 445/445 [04:24<00:00,  1.68it/s, D_fake=5.04e-5, D_real=1]\n",
      "100%|██████████| 445/445 [04:25<00:00,  1.68it/s, D_fake=2.1e-5, D_real=1]\n",
      "100%|██████████| 445/445 [04:26<00:00,  1.67it/s, D_fake=3.41e-5, D_real=1]\n"
     ]
    },
    {
     "name": "stdout",
     "output_type": "stream",
     "text": [
      "--> Saving checkpoint\n",
      "--> Saving checkpoint\n"
     ]
    },
    {
     "name": "stderr",
     "output_type": "stream",
     "text": [
      "100%|██████████| 445/445 [04:27<00:00,  1.66it/s, D_fake=3.65e-5, D_real=1]\n",
      "100%|██████████| 445/445 [04:27<00:00,  1.66it/s, D_fake=3.42e-5, D_real=1]\n",
      "100%|██████████| 445/445 [04:26<00:00,  1.67it/s, D_fake=1.16e-5, D_real=1]\n",
      "100%|██████████| 445/445 [04:37<00:00,  1.60it/s, D_fake=0.00212, D_real=1]\n",
      "100%|██████████| 445/445 [04:40<00:00,  1.58it/s, D_fake=0.00017, D_real=1]\n"
     ]
    },
    {
     "name": "stdout",
     "output_type": "stream",
     "text": [
      "--> Saving checkpoint\n",
      "--> Saving checkpoint\n"
     ]
    },
    {
     "name": "stderr",
     "output_type": "stream",
     "text": [
      "100%|██████████| 445/445 [04:29<00:00,  1.65it/s, D_fake=7.48e-5, D_real=1]\n",
      "100%|██████████| 445/445 [04:28<00:00,  1.66it/s, D_fake=0.000113, D_real=1]\n",
      "100%|██████████| 445/445 [04:29<00:00,  1.65it/s, D_fake=6.1e-5, D_real=1]\n",
      "100%|██████████| 445/445 [04:28<00:00,  1.66it/s, D_fake=0.0014, D_real=0.998]\n"
     ]
    }
   ],
   "source": [
    "def train(disc,gen,loader,opt_disc,opt_gen,l1_loss,bce,g_scaler,d_scaler):\n",
    "    loop = tqdm(loader,leave=True)\n",
    "\n",
    "    for idx,(x,y) in enumerate(loop):\n",
    "        x = x.to(DEVICE)\n",
    "        y = y.to(DEVICE)\n",
    "\n",
    "        with torch.cuda.amp.autocast():\n",
    "            y_fake = gen(x)\n",
    "            D_real = disc(x,y)\n",
    "            D_real_loss = bce(D_real,torch.ones_like(D_real))\n",
    "            D_fake = disc(x,y_fake.detach())\n",
    "            D_fake_loss = bce(D_fake,torch.zeros_like(D_fake))\n",
    "            D_loss = (D_real_loss + D_fake_loss) / 2\n",
    "        \n",
    "        disc.zero_grad()\n",
    "        d_scaler.scale(D_loss).backward()\n",
    "        d_scaler.step(opt_disc)\n",
    "        d_scaler.update()\n",
    "\n",
    "        with torch.cuda.amp.autocast():\n",
    "            D_fake = disc(x, y_fake)\n",
    "            G_fake_loss = bce(D_fake,torch.ones_like(D_fake))\n",
    "            L1 = l1_loss(y_fake,y) * L1_LAMBDA\n",
    "            G_loss = G_fake_loss + L1\n",
    "\n",
    "        opt_gen.zero_grad()\n",
    "        g_scaler.scale(G_loss).backward()\n",
    "        g_scaler.step(opt_gen)\n",
    "        g_scaler.update()\n",
    "\n",
    "        if idx %10 == 0:\n",
    "            loop.set_postfix(\n",
    "                D_real = torch.sigmoid(D_real).mean().item(),\n",
    "                D_fake = torch.sigmoid(D_fake).mean().item(),\n",
    "            )\n",
    "\n",
    "def main():\n",
    "    disc = Discriminator().to(DEVICE)\n",
    "    gen = Generator().to(DEVICE)\n",
    "    opt_disc = optim.Adam(disc.parameters(),lr = LR,betas=(0.5,0.999))\n",
    "    opt_gen = optim.Adam(gen.parameters(),lr = LR,betas=(0.5,0.999))\n",
    "    BCE = nn.BCEWithLogitsLoss()\n",
    "    L1_LOSS = nn.L1Loss()\n",
    "\n",
    "\n",
    "    if LOAD_MODEL:\n",
    "        load_checkpoint(GEN_CHK, gen, opt_gen, LR)\n",
    "        load_checkpoint(DISC_CHK, disc, opt_disc, LR)\n",
    "\n",
    "    train_dataset = MyDataset(TRAIN_DIR)\n",
    "    train_loader = DataLoader(\n",
    "        train_dataset,\n",
    "        batch_size = BATCH_SIZE,\n",
    "        shuffle = True,\n",
    "        num_workers = NUM_WORKERS\n",
    "    )\n",
    "\n",
    "    g_scaler = torch.cuda.amp.GradScaler()\n",
    "    d_scaler = torch.cuda.amp.GradScaler()\n",
    "\n",
    "    val_dataset = MyDataset(TEST_DIR)\n",
    "    val_loader = DataLoader(\n",
    "        val_dataset,\n",
    "        batch_size=1,\n",
    "        shuffle=False\n",
    "    )\n",
    "\n",
    "    for epoch in range(EPOCHS):\n",
    "        train(disc, gen, train_loader, opt_disc, opt_gen, L1_LOSS, BCE, g_scaler, d_scaler)\n",
    "\n",
    "        if SAVE_MODEL and epoch % 5 == 0:\n",
    "            save_checkpoint(gen, opt_gen,filename=GEN_CHK)\n",
    "            save_checkpoint(disc, opt_disc,filename=DISC_CHK)\n",
    "        if epoch%10 == 0:\n",
    "            save_examples(gen, val_loader, epoch, folder=\"./validation\")\n",
    "\n",
    "\n",
    "if __name__==\"__main__\":\n",
    "    main()"
   ]
  },
  {
   "cell_type": "code",
   "execution_count": null,
   "id": "952bb1f4",
   "metadata": {
    "papermill": {
     "duration": 13.23743,
     "end_time": "2021-12-08T18:09:37.710427",
     "exception": false,
     "start_time": "2021-12-08T18:09:24.472997",
     "status": "completed"
    },
    "tags": []
   },
   "outputs": [],
   "source": []
  }
 ],
 "metadata": {
  "kernelspec": {
   "display_name": "Python 3",
   "language": "python",
   "name": "python3"
  },
  "language_info": {
   "codemirror_mode": {
    "name": "ipython",
    "version": 3
   },
   "file_extension": ".py",
   "mimetype": "text/x-python",
   "name": "python",
   "nbconvert_exporter": "python",
   "pygments_lexer": "ipython3",
   "version": "3.7.12"
  },
  "papermill": {
   "default_parameters": {},
   "duration": 27080.778829,
   "end_time": "2021-12-08T18:09:53.427120",
   "environment_variables": {},
   "exception": null,
   "input_path": "__notebook__.ipynb",
   "output_path": "__notebook__.ipynb",
   "parameters": {},
   "start_time": "2021-12-08T10:38:32.648291",
   "version": "2.3.3"
  }
 },
 "nbformat": 4,
 "nbformat_minor": 5
}
